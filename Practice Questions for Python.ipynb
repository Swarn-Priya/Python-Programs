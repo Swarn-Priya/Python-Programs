{
 "cells": [
  {
   "cell_type": "code",
   "execution_count": 29,
   "id": "769ea844",
   "metadata": {},
   "outputs": [
    {
     "name": "stdout",
     "output_type": "stream",
     "text": [
      "362880\n"
     ]
    }
   ],
   "source": [
    "# First Factorial (num) takes the num parameter being passed and resturn the factoria of it.\n",
    "# For example, num = 4, then your program should return (4*3*2*1) = 24. Range has to be 1-18. \n",
    "\n",
    "def FirstFactorial(num1):\n",
    "   \n",
    "    for i in range(num1):\n",
    "        if num1 <= 0 or num1 >= 18:\n",
    "            print(\"Number should be grater than 0 and less than 18 else 0 will be returned\")\n",
    "            return 0\n",
    "            break\n",
    "        \n",
    "        if num1 == 1:\n",
    "            return 1\n",
    "        else:\n",
    "            fact = num1 * FirstFactorial(num1-1)\n",
    "       \n",
    "    return fact\n",
    "\n",
    "print(FirstFactorial(9))"
   ]
  },
  {
   "cell_type": "code",
   "execution_count": 74,
   "id": "a2e7800c",
   "metadata": {},
   "outputs": [
    {
     "name": "stdout",
     "output_type": "stream",
     "text": [
      "['Hi', 'world']\n",
      "{'Hi': 2, 'world': 5}\n",
      "world\n"
     ]
    }
   ],
   "source": [
    "# Find the Longest Word:\n",
    "\n",
    "# Create a function LongestWord(sen) taken the sen parameter being passed and \n",
    "# return the longest word in the string. If there are two or more words that are the\n",
    "# same lenght, return the first word from the string with that length. Ignore \n",
    "# punctuation and assume sen will not be empty. Words may also contain numbers, for example:\n",
    "#     \"Hi, world123 456\" \n",
    "    \n",
    "#Only 'world' should be returned. \n",
    "\n",
    "import re\n",
    "\n",
    "def LognestWord(sen):\n",
    "    substr = r'\\b[a-zA-Z]+'\n",
    "    result = re.findall(substr,sen)\n",
    "    print(result)\n",
    "    dict_len = {}\n",
    "    for i in result:\n",
    "        dict_len[i]=len(i)\n",
    "    print(dict_len)\n",
    "       \n",
    "    return max(zip(dict_len.values(),dict_len.keys()))[1]\n",
    "\n",
    "str1 = \"Hi, world123 456!!!\"\n",
    "print(LognestWord(str1))"
   ]
  },
  {
   "cell_type": "code",
   "execution_count": 108,
   "id": "36187745",
   "metadata": {},
   "outputs": [
    {
     "name": "stdout",
     "output_type": "stream",
     "text": [
      "IfmmpAAbcdE*3 bccdE\n"
     ]
    }
   ],
   "source": [
    "# Letter Change:\n",
    "\n",
    "# Have the function LetterChages(str) take the str parameter being passed and modify\n",
    "# it using the following algorithm. Replace every letter in the tring with the letter\n",
    "# in the alphabet (ie. c becomes d and z becomes a). Then capitalize every vowel in \n",
    "# this new string(a,e,i,o,u) and finally return this modified string. \n",
    "\n",
    "# for example: hello*3 ::: Ifmmp*3\n",
    "\n",
    "def LetterChanges(strParam):\n",
    "    lst1 = []\n",
    "    for i in strParam:\n",
    "        if i == 'z':\n",
    "            temp = 'a'\n",
    "            temp = temp.upper()\n",
    "            lst1.append(temp)\n",
    "        elif i.isalpha():\n",
    "            j = ord(i) + 1\n",
    "            temp = chr(j)\n",
    "            if temp == 'a' or temp == 'e' or temp == 'i' or temp == 'o' or temp == 'u':\n",
    "                temp = temp.upper()\n",
    "            lst1.append(temp)\n",
    "        else: \n",
    "            lst1.append(i)       \n",
    "            \n",
    "    print(\"\".join(lst1))\n",
    "#     retrun strParam\n",
    "    \n",
    "LetterChanges(\"hellozzabcd*3 abbcd\")\n",
    "        \n",
    "#     append is alsways in () brackets\n"
   ]
  },
  {
   "cell_type": "code",
   "execution_count": 118,
   "id": "337c154a",
   "metadata": {},
   "outputs": [
    {
     "name": "stdout",
     "output_type": "stream",
     "text": [
      "Hello World Let Get Going\n"
     ]
    }
   ],
   "source": [
    "# Letter Capitalize:\n",
    "    \n",
    "# Have the function LetterCapitalize(str) take the str parameter being passed and\n",
    "# capitalize the first letter of each word. Words will be separated by only one space. \n",
    "\n",
    "# example: \"hello world\" ::: \"Hello World\"\n",
    "                \n",
    "                \n",
    "def LetterCapitalize(strParam):\n",
    "    temp = strParam.split()\n",
    "    lst=[]\n",
    "    for i in temp:\n",
    "        lst.append(i.capitalize())\n",
    "\n",
    "    return \" \".join(lst)\n",
    "\n",
    "print(LetterCapitalize(\"hello world let get going\"))"
   ]
  },
  {
   "cell_type": "code",
   "execution_count": 125,
   "id": "d77ba28d",
   "metadata": {},
   "outputs": [
    {
     "name": "stdout",
     "output_type": "stream",
     "text": [
      "[\"Let's\", 'get', 'started']\n",
      "3\n"
     ]
    }
   ],
   "source": [
    "# Word Count\n",
    "\n",
    "# Have the function workcount(Str) and take the str string parameter being passed and return \n",
    "# the number of words the string contains (e.g. \"Never eat shreaded wheat or cake\" == 6) Words \n",
    "# will be separated by single space.\n",
    "\n",
    "def WordCount(str1):\n",
    "    temp = str1.split()\n",
    "    print(temp)\n",
    "    count = 0\n",
    "    for i in temp:\n",
    "        count += 1\n",
    "    \n",
    "    return(count)\n",
    "    \n",
    "\n",
    "a = WordCount(\"Let's get started\")\n",
    "print(a)\n",
    "    "
   ]
  },
  {
   "cell_type": "code",
   "execution_count": null,
   "id": "b19cc507",
   "metadata": {},
   "outputs": [],
   "source": [
    "# Binary Converter\n",
    "\n",
    "# Have the function BinaryConverter(str) return the decimal form of the binary value. For example: if 101 \n",
    "# is passed return 5, or 1000 is passed return 8. \n",
    "\n",
    "def BinaryConverter(strParam):\n",
    "\n",
    "\n",
    "    return(strParam)\n",
    "\n",
    "print(BinaryConverter(strParam))"
   ]
  },
  {
   "cell_type": "code",
   "execution_count": 148,
   "id": "b58eab00",
   "metadata": {},
   "outputs": [
    {
     "name": "stdout",
     "output_type": "stream",
     "text": [
      "91\n"
     ]
    }
   ],
   "source": [
    "# Number Addition\n",
    "\n",
    "# Have the function NumberAddition(str) take the str parameter search for all the numbers in the string, \n",
    "# add them together, tehn return that final number. For example: if str is '88Hello 3World!' the output\n",
    "# should be 88+3 = 91. \n",
    "\n",
    "# You will have to differentiate between single digit and multiple digit numbers like : '55Heloo' should give \n",
    "#     answer 55 while '5Hello5' should give 10. \n",
    "    \n",
    "def NumberAddition(strParam):\n",
    "    substr = r'\\d+'\n",
    "    result = re.findall(substr,strParam)\n",
    "    sum1 = 0\n",
    "    for i in result:\n",
    "        sum1 += int(i) \n",
    "#     print(result,sum1)\n",
    "    return sum1\n",
    "\n",
    "print(NumberAddition('88Hello3'))"
   ]
  },
  {
   "cell_type": "code",
   "execution_count": 154,
   "id": "8ee2b53c",
   "metadata": {},
   "outputs": [
    {
     "name": "stdout",
     "output_type": "stream",
     "text": [
      "6\n"
     ]
    }
   ],
   "source": [
    "# Simple Adding\n",
    "\n",
    "# Have the function SimpleAdding(num) add up all the numbers from 1 to num. FOr example:\n",
    "# if num = 4 then output should be 1+2+3+4 = 10. Num should be between 1 to 1000. \n",
    "\n",
    "def SimpleAdding(num1):\n",
    "    temp =0\n",
    "    for i in range(num1):\n",
    "        if num1 < 1 or num1 >1000:\n",
    "            print(\"reenter the number\")\n",
    "            break\n",
    "        else:\n",
    "            temp += i\n",
    "        \n",
    "    return temp\n",
    "\n",
    "print(SimpleAdding(4))"
   ]
  },
  {
   "cell_type": "code",
   "execution_count": 159,
   "id": "c23f500e",
   "metadata": {},
   "outputs": [
    {
     "name": "stdout",
     "output_type": "stream",
     "text": [
      "olleH\n"
     ]
    }
   ],
   "source": [
    "# First Reverse\n",
    "\n",
    "# Have the function FirstReverse(str) take the str parameter being passed and return the string\n",
    "# in reversed order. FOr example: 'Hello' will be 'olleH'\n",
    "    \n",
    "    \n",
    "def FirstReverse(str1):\n",
    "   \n",
    "    temp = str1[::-1]\n",
    "    \n",
    "    return temp\n",
    "\n",
    "print(FirstReverse(\"Hello\"))\n"
   ]
  },
  {
   "cell_type": "code",
   "execution_count": 140,
   "id": "29177f7e",
   "metadata": {},
   "outputs": [
    {
     "name": "stdout",
     "output_type": "stream",
     "text": [
      "10\n"
     ]
    }
   ],
   "source": [
    "# Vowel Count\n",
    "\n",
    "# Have the function VowelCount(str) take the str string parameter being passed and\n",
    "# return the nuber of vowels in the string contains. example : \"hello\" Output: Count = 2\n",
    "    \n",
    "def VowelCount(strParam):\n",
    "    temp = strParam.split()\n",
    "    count = 0\n",
    "    for i in strParam:\n",
    "        if i == 'a' or i == 'e' or i == 'i' or i == 'o' or i == 'u':\n",
    "            count = count +1\n",
    "            \n",
    "    print(count)   \n",
    "\n",
    "VowelCount(\"aaaaallo and byeee\")"
   ]
  },
  {
   "cell_type": "markdown",
   "id": "f43d2ced",
   "metadata": {},
   "source": [
    "# END"
   ]
  }
 ],
 "metadata": {
  "kernelspec": {
   "display_name": "Python 3 (ipykernel)",
   "language": "python",
   "name": "python3"
  },
  "language_info": {
   "codemirror_mode": {
    "name": "ipython",
    "version": 3
   },
   "file_extension": ".py",
   "mimetype": "text/x-python",
   "name": "python",
   "nbconvert_exporter": "python",
   "pygments_lexer": "ipython3",
   "version": "3.9.12"
  }
 },
 "nbformat": 4,
 "nbformat_minor": 5
}
