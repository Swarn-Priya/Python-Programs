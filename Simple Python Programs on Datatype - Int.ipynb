{
 "cells": [
  {
   "cell_type": "code",
   "execution_count": 1,
   "id": "c7c14ec7",
   "metadata": {},
   "outputs": [
    {
     "name": "stdout",
     "output_type": "stream",
     "text": [
      "217 <class 'int'> \n",
      " 1434957210800\n"
     ]
    }
   ],
   "source": [
    "# Q. Declare an int value and store it in a variable.\n",
    "# Check the type and print the id of the same.\n",
    "\n",
    "a = 217\n",
    "\n",
    "print(a,type(a),'\\n',id(a))"
   ]
  },
  {
   "cell_type": "code",
   "execution_count": 3,
   "id": "2d71b182",
   "metadata": {},
   "outputs": [
    {
     "name": "stdout",
     "output_type": "stream",
     "text": [
      "enter any number between 0-256 - 217\n",
      "217\n",
      "inp1 = None and its id is - 140725012634840,\n",
      "inp2 = None and its id is - 140725012634840\n"
     ]
    }
   ],
   "source": [
    "# Q. Take one int value between 0 - 256.\n",
    "# Assign it to two different variables.\n",
    "# Check the id of both the variables. It should come the same. Check why?\n",
    "\n",
    "inp1 = print(input(\"enter any number between 0-256 - \"))\n",
    "inp2 = inp1\n",
    "print(f'inp1 = {inp1} and its id is - {id(inp1)},\\ninp2 = {inp2} and its id is - {id(inp2)}')\n",
    "\n",
    "\n",
    "# Different variable are poniting to the same value in the heap area. "
   ]
  },
  {
   "cell_type": "code",
   "execution_count": 12,
   "id": "14572967",
   "metadata": {},
   "outputs": [
    {
     "name": "stdout",
     "output_type": "stream",
     "text": [
      "-8 -8 \n",
      " id of a is - 1435043519728 \n",
      " id of b is - 1435043519312\n",
      "2117 2117 \n",
      " id of C is - 1435043519664 \n",
      " id of D is - 1435043518352\n"
     ]
    }
   ],
   "source": [
    "# Q. Take one int value either less than -5 or greater than 256.\n",
    "# Assign it to two different variables.\n",
    "# Check the id of both the variables. It should come different.Check why?\n",
    "\n",
    "a = -8\n",
    "b = -8\n",
    "\n",
    "c = 2117 \n",
    "d= 2117\n",
    "\n",
    "print(a,b,'\\n',f'id of a is - {id(a)} \\n id of b is - {id(b)}')\n",
    "print(c,d,'\\n',f'id of C is - {id(c)} \\n id of D is - {id(d)}')\n",
    "\n",
    "\n",
    "# For purposes of optimization, the interpreter creates objects for the integers in the range [-5, 256] at startup,\n",
    "# and then reuses them during program execution. Thus, when you assign separate variables to an integer value in this range, \n",
    "# they will actually reference the same object.\n",
    "\n",
    "# The same is not done for values below -5 and above 256. Hence these variables will be stored at different location ."
   ]
  },
  {
   "cell_type": "code",
   "execution_count": 16,
   "id": "2ac01aa8",
   "metadata": {},
   "outputs": [
    {
     "name": "stdout",
     "output_type": "stream",
     "text": [
      "Sum is 12\n",
      "Difference is 8\n",
      "Product is 20\n",
      "Divsion of a/b is 5.0\n",
      "Modules is 0\n",
      "Quotient is 5\n",
      "Power a^b is 100\n"
     ]
    }
   ],
   "source": [
    "# Q. Arithmetic Operations on integers\n",
    "# Take two different integer values.\n",
    "# Store them in two different variables.\n",
    "# Do below operations on them:-\n",
    "# Find sum of both numbers\n",
    "# Find difference between them\n",
    "# Find the product of both numbers.\n",
    "# Find value after dividing first num with second number\n",
    "# Find the remainder after dividing first number with second number\n",
    "# Find the quotient after dividing first number with second number\n",
    "# Find the result of the first num to the power of the second number.\n",
    "\n",
    "a = 10\n",
    "b = 2\n",
    "\n",
    "sum1 = a+b\n",
    "dif1 = a-b\n",
    "prod1 = a*b\n",
    "div1 = a/b\n",
    "mod1 = a%b\n",
    "quo1 = a//b\n",
    "pow1 = pow(a,b)\n",
    "\n",
    "\n",
    "print(f'Sum is {sum1}')\n",
    "print(f'Difference is {dif1}')\n",
    "print(f'Product is {prod1}')\n",
    "print(f'Divsion of a/b is {div1}')\n",
    "print(f'Modules is {mod1}')\n",
    "print(f'Quotient is {quo1}')\n",
    "print(f'Power a^b is {pow1}')\n",
    "\n"
   ]
  },
  {
   "cell_type": "code",
   "execution_count": 1,
   "id": "33258f59",
   "metadata": {},
   "outputs": [
    {
     "name": "stdout",
     "output_type": "stream",
     "text": [
      "True\n",
      "False\n",
      "True\n",
      "False\n"
     ]
    }
   ],
   "source": [
    "# Q. Comparison Operators on integers\n",
    "# Take two different integer values.\n",
    "# Store them in two different variables.\n",
    "# Do below operations on them:-\n",
    "# Compare se two numbers with below operator:-\n",
    "# Greater than, '>'\n",
    "# Smaller than, '<'\n",
    "# Greater than or equal to, '>='\n",
    "# Less than or equal to, '<='\n",
    "# Observe their output(return type should be boolean)\n",
    "\n",
    "a = 21\n",
    "b = 17\n",
    "print(a>b)\n",
    "print(a<b)\n",
    "print(a>=b)\n",
    "print(a<=b)"
   ]
  },
  {
   "cell_type": "code",
   "execution_count": 2,
   "id": "70bd0dbe",
   "metadata": {},
   "outputs": [
    {
     "name": "stdout",
     "output_type": "stream",
     "text": [
      "False\n",
      "True\n"
     ]
    }
   ],
   "source": [
    "# Q. Equality Operator\n",
    "# Take two different integer values.\n",
    "# Store them in two different variables.\n",
    "# Equate them using equality operators (==, !=)\n",
    "# Observe the output(return type should be boolean)\n",
    "\n",
    "a = 21\n",
    "b = 17\n",
    "\n",
    "print(a==b)\n",
    "print(a!=b)"
   ]
  },
  {
   "cell_type": "code",
   "execution_count": 3,
   "id": "91cebeb8",
   "metadata": {},
   "outputs": [
    {
     "name": "stdout",
     "output_type": "stream",
     "text": [
      "20\n",
      "0\n",
      "0\n",
      "0\n",
      "10\n",
      "20\n",
      "20\n",
      "0\n",
      "False\n",
      "True\n"
     ]
    }
   ],
   "source": [
    "# Q. Logical operators\n",
    "# Observe the output of below code\n",
    "\n",
    "# Cross check the output manually\n",
    "print(10 and 20)\n",
    "\n",
    "# 10 != 0 - true, so this is a true condition, then it will check the next, 20!= 0:: which is again true. Hence, output - 20\n",
    "# #----------------------------------------->Output is 20\n",
    "\n",
    "print(0 and 20)\n",
    "# 0 != 0 - False. Hence, it will not go further and will stop the execution and throw the output as 0.\n",
    "# #----------------------------------------->Output is 0\n",
    "\n",
    "print(20 and 0)\n",
    "# 20 != 0 - true, so this is a true condition, then it will check the next, 0!= 0:: False. Hence, output - 0\n",
    "# #----------------------------------------->Output is 0\n",
    "\n",
    "print(0 and 0)\n",
    "# 0 != 0 - False. Hence, it will not go further and will stop the execution and throw the output as 0.\n",
    "# #----------------------------------------->Output is 0\n",
    "\n",
    "print(10 or 20)\n",
    "# 10 != 0 - true, and it is an 'or' logical opertor, it will not go further and will throw an output of 10. \n",
    "# #----------------------------------------->Output is 10\n",
    "\n",
    "print(0 or 20)\n",
    "# 0 != 0 - False. But as there is an 'Or' logical operator, it will go further and check the next number. 20!=0, which comes true and 20 output will be given. \n",
    "# ------------------------------------->Output is 20\n",
    "\n",
    "print(20 or 0)\n",
    "# 20 != 0 - true, and it is an 'or' logical opertor, it will not go further and will throw an output of 20. \n",
    "# #----------------------------------------->Output is 20\n",
    "\n",
    "print(0 or 0)\n",
    "\n",
    "# 0 != 0 - False. But as there is an 'Or' logical operator, it will go further and check the next number. \n",
    "# 0!=0, which comes flase hence 0 output will be given.\n",
    "# #----------------------------------------->Output is 0\n",
    "\n",
    "print(not 10)\n",
    "# IT will return false and it will negate the statement. \n",
    "# #----------------------------------------->Output is False\n",
    "\n",
    "print(not 0)\n",
    "# When the value 0, it means it is false, so we are negating 'false', which is true. Hence, the output is true. \n",
    "# #----------------------------------------->Output is True"
   ]
  },
  {
   "cell_type": "code",
   "execution_count": 8,
   "id": "265bda05",
   "metadata": {},
   "outputs": [
    {
     "name": "stdout",
     "output_type": "stream",
     "text": [
      "0\n",
      "30\n",
      "30\n",
      "-11\n",
      "40\n",
      "2\n"
     ]
    }
   ],
   "source": [
    "# Q. Bitwise Operators\n",
    "# Do below operations on the values provided below:-\n",
    "\n",
    "# Bitwise and(&) -----------------------------------------> 10, 20\n",
    "# -------> Output is 0\n",
    "# Bitwise or(|) -----------------------------------------> 10, 20\n",
    "# -------> Output is 30\n",
    "# Bitwise(^) -----------------------------------------> 10, 20\n",
    "# -------> Output is 30\n",
    "# Bitwise negation(~) ------------------------------------> 10\n",
    "# -------> Output is -11\n",
    "# Bitwise left shift ------------------------------------> 10,2\n",
    "# -------> Output is 40\n",
    "# Bitwise right shift ------------------------------------> 10,2\n",
    "# -------> Output is 2\n",
    "# Cross check the output manually\n",
    "\n",
    "print(10 & 20)\n",
    "\n",
    "Solution:\n",
    "20 = 10100\n",
    "10 = 01010\n",
    "-----------\n",
    "     00000\n",
    "Hence: the value of 10 & 20 =0\n",
    "# **********************************************************************************************************************    \n",
    "\n",
    "print(10|20)\n",
    "Solution:\n",
    "20 = 10100\n",
    "10 = 01010\n",
    "-----------\n",
    "     11110\n",
    "Hence: the value of 10 | 20 = (2)^4*1+(2)^3*1+(2)^2*1+(2)^1*1+(2)^0*0 = 16+8+4+2+0 = 30\n",
    "# **********************************************************************************************************************    \n",
    "\n",
    "print(10^20) \n",
    "# XOR ( strictly one should be 1 and other should be 0.)\n",
    "Solution:\n",
    "20 = 10100\n",
    "10 = 01010\n",
    "-----------\n",
    "     11110\n",
    "Hence: the value of 10 ^ 20 = (2)^4*1+(2)^3*1+(2)^2*1+(2)^1*1+(2)^0*0 = 16+8+4+2+0 = 30\n",
    "# **********************************************************************************************************************    \n",
    "\n",
    "print(~10)\n",
    "\n",
    "Solution: (Not 10)\n",
    "10 = 01010\n",
    "\n",
    "-(1010+1) = -(1011) = -(2^3*1 + 2^2*0 + 2^1*1 + 2^0*1) = -(8+0+2+1) = -11\n",
    "  \n",
    "# **********************************************************************************************************************    \n",
    "\n",
    "print(10<<2)\n",
    "\n",
    "Solution:(Bitwise ::Shift left)\n",
    "\n",
    "10 = 1010\n",
    "\n",
    "so we shift 2 digit left.\n",
    "0010 1000\n",
    "\n",
    "(2)^5*1+(2)^4*0+(2)^3*1+(2)^2*0+(2)^1*0+(2)^0*0 = 32+0+8+0+0+0= 40\n",
    "# **********************************************************************************************************************    \n",
    "\n",
    "print(10>>2)\n",
    "\n",
    "Solution:(Bitwise ::Shift Right)\n",
    "\n",
    "10 = 01010\n",
    "\n",
    "so we shift 2 digit right.\n",
    "00010\n",
    "\n",
    "(0+0+0+2^1*1 + 2^0*0)) = 2 + 0 = 2\n",
    "\n",
    "# **********************************************************************************************************************    \n"
   ]
  },
  {
   "cell_type": "code",
   "execution_count": 9,
   "id": "56f139c4",
   "metadata": {},
   "outputs": [
    {
     "name": "stdout",
     "output_type": "stream",
     "text": [
      "True\n",
      "False\n",
      "False\n",
      "True\n"
     ]
    }
   ],
   "source": [
    "# Q. What is the output of expression inside print statement. Cross check\n",
    "# before running the program.\n",
    "\n",
    "a = 10\n",
    "b = 10\n",
    "print(a is b) #True or False?  \n",
    "print(a is not b) #True or False?\n",
    "a = 1000\n",
    "b = 1000\n",
    "print(a is b) #True or False?\n",
    "print(a is not b) #True or False?"
   ]
  },
  {
   "cell_type": "code",
   "execution_count": 32,
   "id": "1ac51b3c",
   "metadata": {},
   "outputs": [
    {
     "name": "stdout",
     "output_type": "stream",
     "text": [
      "20\n",
      "20\n",
      "20\n",
      "20\n",
      "20\n",
      "20\n",
      "20\n"
     ]
    }
   ],
   "source": [
    "# Q. What is the output of expression inside print statement. Cross check\n",
    "# before running the program.\n",
    "\n",
    "print(10+(10*32)//2**5&20+(~(-10))<<2)\n",
    "\n",
    "print(10+320//2**5&20+(~(-10))<<2)   #solving the bracket 10*32\n",
    "print(10 + 320//2**5&20 + 9<<2)   #solving the airthmatic bracket of (~(-10)), before bitwise\n",
    "print(10+320//32&20+9<<2)     #solved ** solved\n",
    "print(10 + 10 &20 + 9<<2)     #solved 320//32\n",
    "print(20 & 29<<2)     #solved +\n",
    "print(20 & 116)     #solved <<\n",
    "\n",
    "# 20  - 0010100\n",
    "# 116 - 1110100\n",
    "# ----------------\n",
    "#       0010100  ---- this comes out to be 20.\n",
    "   \n",
    "    \n",
    "# Output is 20. "
   ]
  },
  {
   "cell_type": "code",
   "execution_count": 15,
   "id": "2d582e60",
   "metadata": {},
   "outputs": [
    {
     "name": "stdout",
     "output_type": "stream",
     "text": [
      "True\n",
      "True\n",
      "True\n",
      "True\n",
      "True\n",
      "True\n"
     ]
    }
   ],
   "source": [
    "# Q. Membership operation\n",
    "# in, not in are two membership operators and it returns boolean value\n",
    "\n",
    "print('2' in 'Python2.7.8')\n",
    "print(10 in [10,10.20,10+20j,'Python'])\n",
    "print(10 in (10,10.20,10+20j,'Python'))\n",
    "print(2 in {1,2,3})\n",
    "print(3 in {1:100, 2:200, 3:300})\n",
    "print(10 in range(20))"
   ]
  },
  {
   "cell_type": "code",
   "execution_count": 44,
   "id": "cf5fa3ba",
   "metadata": {},
   "outputs": [
    {
     "name": "stdout",
     "output_type": "stream",
     "text": [
      "Value of binary number is - 10\n",
      "Value of octal number is - 10\n",
      "Value of hexadecimal number is - 10\n",
      "Binary of 9876 is : 0b10011010010100\n",
      "Octal of 9876 is : 0o23224\n",
      "HexaDecimal of 9876 is - 0x2694\n"
     ]
    }
   ],
   "source": [
    "# Q. An integer can be represented in binary, octal or hexadecimal form.\n",
    "# Declare one binary, one octal and one hexadecimal value and store them\n",
    "# in three different variables.\n",
    "# Convert 9876 to its binary, octal and hexadecimal equivalent and print\n",
    "# their corresponding value.\n",
    "\n",
    "bin1 = 0b1010\n",
    "oct1 = 0o12\n",
    "hex1 = 0xa\n",
    "\n",
    "print(f'Value of binary number is - {bin1}\\nValue of octal number is - {oct1}\\nValue of hexadecimal number is - {hex1}')\n",
    "\n",
    "a = 9876\n",
    "\n",
    "print(f'Binary of 9876 is : {bin(a)}\\nOctal of 9876 is : {oct(a)}\\nHexaDecimal of 9876 is - {hex(a)}')"
   ]
  },
  {
   "cell_type": "code",
   "execution_count": 56,
   "id": "e04d3f81",
   "metadata": {},
   "outputs": [
    {
     "name": "stdout",
     "output_type": "stream",
     "text": [
      "80\n",
      "3870\n",
      "64222\n",
      "0b1010000\n",
      "0o7436\n",
      "0xfade\n",
      "0b1010000 80\n",
      "0b1111101011011110\n",
      "0o175336\n",
      "0o7436\n",
      "0x50\n",
      "0xfade\n"
     ]
    }
   ],
   "source": [
    "# Q. What will be the output of following:-\n",
    "\n",
    "a = 0b1010000\n",
    "print(a)\n",
    "# Solution: 2^6+2^4 = 64+16 = 80\n",
    "# ----------------------------------------------------------------------------------------------------------\n",
    "\n",
    "b = 0o7436\n",
    "print(b)\n",
    "# Solution - 7*8^3 + 4*8^2 + 3*8^1 + 6*8^0 = 3870\n",
    "# -----------------------------------------------------------------------------------------------------------\n",
    "\n",
    "c = 0xfade\n",
    "print(c)\n",
    "# Solution - 15 * pow(16,3)+ 10*pow(16,2) + 13*pow(16,1)+ 14*pow(16,0) = 64222\n",
    "# -----------------------------------------------------------------------------------------------------------\n",
    "\n",
    "print(bin(80))\n",
    "# diving by 2 and noting down the remainders. we get -  1010000. \n",
    "# Representation of 80 is 0b1010000\n",
    "\n",
    "print(oct(3870))\n",
    "# diving by 8 and noting down the remainders. we get -  7436. \n",
    "# Representation of 3870 is 0o7436\n",
    "\n",
    "print(hex(64222))\n",
    "# diving by 8 and noting down the remainders. we get -  fade. \n",
    "# Representation of 3870 is 0xfade\n",
    "\n",
    "print(bin(0b1010000))\n",
    "# value of 0b1010000 - 80 and the binary representation is as shown. \n",
    "\n",
    "print(bin(0xfade))\n",
    "# value of 0xfade - 64222 and the binary representation is - 0b1111101011011110\n",
    "\n",
    "print(oct(0xfade))\n",
    "# value of 0xfade - 64222 and the Octal representation is - 0o175336\n",
    "\n",
    "print(oct(0o7436))\n",
    "# Octal representation of - 0o7436 is same. \n",
    "\n",
    "print(hex(0b1010000))\n",
    "# value of 0b1010000 - 80 and its hexadecimal representation is - 0x50\n",
    "\n",
    "print(hex(0xfade))\n",
    "# Hexadecimal representation of - 0xfade is same. "
   ]
  },
  {
   "cell_type": "code",
   "execution_count": null,
   "id": "12d2e162",
   "metadata": {},
   "outputs": [],
   "source": []
  }
 ],
 "metadata": {
  "kernelspec": {
   "display_name": "Python 3 (ipykernel)",
   "language": "python",
   "name": "python3"
  },
  "language_info": {
   "codemirror_mode": {
    "name": "ipython",
    "version": 3
   },
   "file_extension": ".py",
   "mimetype": "text/x-python",
   "name": "python",
   "nbconvert_exporter": "python",
   "pygments_lexer": "ipython3",
   "version": "3.9.12"
  }
 },
 "nbformat": 4,
 "nbformat_minor": 5
}
