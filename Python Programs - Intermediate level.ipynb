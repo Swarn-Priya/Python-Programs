{
 "cells": [
  {
   "cell_type": "code",
   "execution_count": 253,
   "id": "6527bbd8",
   "metadata": {},
   "outputs": [
    {
     "name": "stdout",
     "output_type": "stream",
     "text": [
      "True\n",
      "False\n",
      "True\n",
      "False\n"
     ]
    }
   ],
   "source": [
    "# AB Check \n",
    "# Have the function ABCheck(str) take the str parameter being passed and return the string true if the characheters in a and b \n",
    "# are spearated by exactly 3 palces anywhere in the string at least once(i.e. 'lane borrowed' in true because there is exactly \n",
    "# three characteres between a and b).\n",
    "# Otherwise return the string false. \n",
    "\n",
    "import numpy as np\n",
    "import pandas as pd\n",
    "\n",
    "\n",
    "def ABCheck(str1):\n",
    "    lst = []\n",
    "    for i in str1:\n",
    "        lst.append(i)\n",
    "    \n",
    "    for i in range(len(lst)):\n",
    "        if (i+4) >= len(lst):\n",
    "            return False\n",
    "        else:\n",
    "            if lst[i] == 'a' and lst[i+4] == 'b':\n",
    "                return True\n",
    "            else:\n",
    "                continue\n",
    "            \n",
    "    \n",
    "print(ABCheck(\"Laura sobs\"))\n",
    "print(ABCheck(\"after badly\"))\n",
    "print(ABCheck(\"MKads bwew\"))\n",
    "print(ABCheck(\"MKads dbwew\"))\n",
    "\n"
   ]
  },
  {
   "cell_type": "code",
   "execution_count": 254,
   "id": "b976b794",
   "metadata": {},
   "outputs": [
    {
     "name": "stdout",
     "output_type": "stream",
     "text": [
      "False\n",
      "True\n"
     ]
    }
   ],
   "source": [
    "# Ex Oh\n",
    "\n",
    "# Have the function ExOh(str) take the str parameter being passed and return the string true if there is an equal number of x's \n",
    "# and o's, otherwise return the string false. Only these two letters will be entered in the string, no punctuation or numbers. \n",
    "# For example: if str is \"xooxxxxooxo\" then the output should return false because there are 6 x's and 5 o's.\n",
    "\n",
    "\n",
    "def ExOh(str1):\n",
    "    cnt_o = 0\n",
    "    cnt_x = 0\n",
    "    for i in str1:\n",
    "        if i == 'x':\n",
    "            cnt_x +=1\n",
    "        elif i == 'o':\n",
    "            cnt_o +=1\n",
    "    \n",
    "    if cnt_x == cnt_o:\n",
    "        return True\n",
    "    else:\n",
    "        return False\n",
    "        \n",
    "print(ExOh(\"xoxoxoxoxooo\"))\n",
    "print(ExOh(\"xoxoxoxoxo\"))\n",
    "\n",
    "\n"
   ]
  },
  {
   "cell_type": "code",
   "execution_count": 276,
   "id": "2dbb4594",
   "metadata": {},
   "outputs": [
    {
     "name": "stdout",
     "output_type": "stream",
     "text": [
      "False\n",
      "True\n"
     ]
    }
   ],
   "source": [
    "# Palindrome \n",
    "\n",
    "# Have the function Palindrome(str) take the str parameter being passed and return the string true if the parameter is a \n",
    "# palindrome, (the string is the same forward as it is backward) otherwise return the string false. For example: \"racecar\" \n",
    "# is also \"racecar\" backwards. Punctuation and numbers will not be part of the string.\n",
    "\n",
    "import re\n",
    "\n",
    "\n",
    "def Palindrome(str1):\n",
    "    lnth = []\n",
    "    lstofletters = []\n",
    "    lst = []\n",
    "    lst2= [] \n",
    "    rev = str1[::-1]\n",
    "    str2 = \"\"\n",
    "        \n",
    "    lstofletters = \"\".join(rev.split())\n",
    "#     print(lstofletters)\n",
    "    for i in (str1.split()):\n",
    "#         print(i)\n",
    "        lnth.append(len(i))\n",
    "\n",
    "    cntr = 0\n",
    "    for j in lnth:\n",
    "#         print(j)\n",
    "        i = cntr\n",
    "        for k in range(j):\n",
    "            lst.append(lstofletters[i])\n",
    "            \n",
    "            i +=1\n",
    "        \"\".join(lst)\n",
    "        lst.append(\" \")\n",
    "        cntr += j\n",
    "        \n",
    "    str2 = \"\"\n",
    "    lst2 = \"\".join(lst)\n",
    "#     print(lst2)\n",
    "    for i in lst2:\n",
    "        str2 += i\n",
    "    \n",
    "#     print(type(str1),type(str2),str1,str2.split())\n",
    "        \n",
    "    if str1.split() == str2.split():\n",
    "        return True\n",
    "    else:\n",
    "        return False\n",
    "    \n",
    "    \n",
    "\n",
    "print(Palindrome(\"never eveoooon\"))\n",
    "print(Palindrome(\"eye\"))\n"
   ]
  },
  {
   "cell_type": "code",
   "execution_count": 308,
   "id": "2e72fc36",
   "metadata": {},
   "outputs": [
    {
     "name": "stdout",
     "output_type": "stream",
     "text": [
      "[7, 5, 1]\n",
      "[10, 6, 4, 3]\n"
     ]
    }
   ],
   "source": [
    "# Array Addition I\n",
    "\n",
    "# Have the function ArrayAdditionI(arr) take the array of numbers stored in arr and return the string true if any combination of \n",
    "# numbers in the array (excluding the largest number) can be added up to equal the largest number in the array, otherwise return \n",
    "# the string false. For example: if arr contains [4, 6, 23, 10, 1, 3] the output should return true because 4 + 6 + 10 + 3 = 23. \n",
    "# The array will not be empty, will not contain all the same elements, and may contain negative numbers.\n",
    "\n",
    "def ArrayAddition(arr):\n",
    "    sortarr = sorted(arr)\n",
    "#     print(sortarr)\n",
    "    larg = sortarr.pop() #pops last item..thats why we sorted\n",
    "    rev_arr = list(reversed(sortarr))\n",
    "#     print(larg,sortarr,'\\nreversed',rev_arr)\n",
    "    sum1 = 0\n",
    "    lst = []\n",
    "    \n",
    "    for i in range(len(rev_arr)):\n",
    "        sum1 += rev_arr[i]\n",
    "        lst.append(rev_arr[i])\n",
    "#         print(sum1, rev_arr[i],'1st one')\n",
    "        if sum1 == larg:\n",
    "            return lst\n",
    "        else: \n",
    "            if sum1 <= larg:\n",
    "                continue\n",
    "            else:\n",
    "                sum1 =sum1 -rev_arr[i]\n",
    "                lst.pop()\n",
    "#                 print(sum1, rev_arr[i],'2nd one')\n",
    "            \n",
    "#         print(sum1,larg)\n",
    "#         if sum1 == larg:\n",
    "#             print(lst)\n",
    "#             return lst\n",
    "           \n",
    "    \n",
    "    \n",
    "print(ArrayAddition([5,7,13,1,2]))\n",
    "print(ArrayAddition([4, 6, 23, 10, 1, 3]))\n"
   ]
  },
  {
   "cell_type": "code",
   "execution_count": 162,
   "id": "3e92b58d",
   "metadata": {},
   "outputs": [
    {
     "name": "stdout",
     "output_type": "stream",
     "text": [
      "4.0\n",
      "4\n",
      "True\n"
     ]
    }
   ],
   "source": [
    "# Mean Mode\n",
    "\n",
    "# Have the function MeanMode(arr) take the array of numbers stored in arr and return 1 if the mode equals the mean, 0 if they \n",
    "# don't equal each other (ie. [5, 3, 3, 3, 1] should return 1 because the mode (3) equals the mean (3)). The array will not be \n",
    "# empty, will only contain positive integers, and will not contain more than one mode.\n",
    "\n",
    "import numpy as np\n",
    "import statistics\n",
    "\n",
    "def MeanMode(arr):\n",
    "    mn = np.mean(arr) \n",
    "    print(mn)\n",
    "    md = statistics.mode(arr)\n",
    "    print(md)\n",
    "\n",
    "    if md == mn:\n",
    "        return True\n",
    "    else:\n",
    "        return False\n",
    "    \n",
    "print(MeanMode([4,4,4,6,2]))\n",
    "\n",
    "\n"
   ]
  },
  {
   "cell_type": "code",
   "execution_count": 290,
   "id": "b9775e4c",
   "metadata": {},
   "outputs": [
    {
     "name": "stdout",
     "output_type": "stream",
     "text": [
      "2\n",
      "3\n",
      "12\n"
     ]
    }
   ],
   "source": [
    "# Consecutive\n",
    "\n",
    "# Have the function Consecutive(arr) take the array of integers stored in arr and return the minimum number of integers needed to \n",
    "# make the contents of arr consecutive from the lowest number to the highest number. For example: If arr contains [4, 8, 6] then \n",
    "# the output should be 2 because two numbers need to be added to the array (5 and 7) to make it a consecutive array of numbers \n",
    "# from 4 to 8. Negative numbers may be entered as parameters and no array will have less than 2 elements.\n",
    "\n",
    "\n",
    "def Consecutive(arr):\n",
    "    arr_sort = sorted(arr)\n",
    "    larg = arr_sort.pop()\n",
    "    smll = arr_sort[0]\n",
    "    \n",
    "    count = 0\n",
    "    for i in range(smll,larg):\n",
    "        if i in arr_sort:\n",
    "            continue\n",
    "        else:\n",
    "            count = count + 1\n",
    "    \n",
    "    return count\n",
    "    \n",
    "    \n",
    "    \n",
    "print(Consecutive([4,8,6]))\n",
    "print(Consecutive([4,8]))\n",
    "print(Consecutive([4,1,16,8]))\n",
    "\n",
    "\n"
   ]
  },
  {
   "cell_type": "code",
   "execution_count": 189,
   "id": "92a2b968",
   "metadata": {},
   "outputs": [
    {
     "name": "stdout",
     "output_type": "stream",
     "text": [
      "111111\n"
     ]
    }
   ],
   "source": [
    "# Binary Converter\n",
    "\n",
    "# Have the function BinaryConverter(str) retrun the decimal from the binary value. For example: if 101 is passed return 5, or if \n",
    "# 1000 is passed return 8. \n",
    "\n",
    "\n",
    "def BinaryConvertor(num1):\n",
    "    q=0\n",
    "    r=0\n",
    "    cntr = num1\n",
    "    lst = []\n",
    "    lst1 =[]\n",
    "    for i in range(num1):\n",
    "        if cntr >= 1:\n",
    "            q = int(cntr/2)\n",
    "            r = cntr%2\n",
    "            cntr = q\n",
    "            lst.append(r)\n",
    "#             print(q,r,cntr,lst)\n",
    "        else:\n",
    "            lst.reverse()\n",
    "            s = [str(i) for i in lst]\n",
    "            lst1 = \"\".join(s)\n",
    "            return lst1\n",
    "\n",
    "print(BinaryConvertor(63))"
   ]
  },
  {
   "cell_type": "code",
   "execution_count": 224,
   "id": "cd175fa9",
   "metadata": {},
   "outputs": [
    {
     "name": "stdout",
     "output_type": "stream",
     "text": [
      "Helllo\n"
     ]
    }
   ],
   "source": [
    "# Letter Count1\n",
    "\n",
    "# Have the function LetterCountI(str) take the str parameter being passed and return the first word with the grestest number of\n",
    "# repeated letters. For example: 'Today, is the greatest day ever!' should return greatest because it has 2 e's (and 2 t's) and it \n",
    "# comes before ever which also have 2 e's. If there are no words with repeating letters return -1. Words will be separeted by spaces.\n",
    "\n",
    "# Input : Hello Apple Pie\n",
    "# Output : Hello\n",
    "\n",
    "\n",
    "def LetterCnt(str1):\n",
    "    lst = str1.split()\n",
    "    count = 0\n",
    "    for i in lst:\n",
    "        for j in i:\n",
    "            count_new= 0 \n",
    "            for k in i:\n",
    "                if j == k:\n",
    "                    count_new +=1\n",
    "                        \n",
    "            if count_new > count:\n",
    "                count = count_new\n",
    "                wrd = i\n",
    "            \n",
    "            \n",
    "    return wrd\n",
    "    \n",
    "    \n",
    "print(LetterCnt('Helllo kityy wittyyy'))"
   ]
  },
  {
   "cell_type": "code",
   "execution_count": 252,
   "id": "4ac11bec",
   "metadata": {},
   "outputs": [
    {
     "name": "stdout",
     "output_type": "stream",
     "text": [
      "53\n",
      "23\n"
     ]
    }
   ],
   "source": [
    "# Prime Mover\n",
    "\n",
    "# Have the function PrimeMover(num) return the numth prime number. The range will be from 1 to 10*4. For example: if num is 16 \n",
    "# then the output should be 53 as 53 is the 16h prime number.\n",
    "\n",
    "# Input : 9 \n",
    "# Output : 23\n",
    "    \n",
    "def PrimeMover(num1):\n",
    "    lst=[2]\n",
    "    n=100\n",
    "    last = int(n/2)\n",
    "    flg = True\n",
    "    for i in range(3,n):\n",
    "        flg = True\n",
    "        for j in range(2,last):\n",
    "            if i>j:\n",
    "                hld=i%j\n",
    "                if hld == 0:\n",
    "                    flg = False\n",
    "                    continue\n",
    "            \n",
    "        if flg:\n",
    "            lst.append(i)\n",
    "            \n",
    "        if len(lst) == num1:\n",
    "            return lst[-1]\n",
    "                \n",
    "    \n",
    "print(PrimeMover(16))\n",
    "print(PrimeMover(9))    \n",
    "\n",
    "    "
   ]
  }
 ],
 "metadata": {
  "kernelspec": {
   "display_name": "Python 3 (ipykernel)",
   "language": "python",
   "name": "python3"
  },
  "language_info": {
   "codemirror_mode": {
    "name": "ipython",
    "version": 3
   },
   "file_extension": ".py",
   "mimetype": "text/x-python",
   "name": "python",
   "nbconvert_exporter": "python",
   "pygments_lexer": "ipython3",
   "version": "3.9.12"
  }
 },
 "nbformat": 4,
 "nbformat_minor": 5
}
