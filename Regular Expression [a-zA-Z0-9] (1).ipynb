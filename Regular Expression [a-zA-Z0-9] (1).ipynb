{
 "cells": [
  {
   "cell_type": "markdown",
   "id": "5422e19b",
   "metadata": {},
   "source": [
    "# Regular Expression"
   ]
  },
  {
   "cell_type": "code",
   "execution_count": 2,
   "id": "477ffd47",
   "metadata": {},
   "outputs": [
    {
     "name": "stdout",
     "output_type": "stream",
     "text": [
      "<re.Match object; span=(0, 1), match='a'> \n",
      " <re.Match object; span=(13, 14), match='.'>\n"
     ]
    }
   ],
   "source": [
    "# Use of '.' or '\\.' with search\n",
    "\n",
    "import re\n",
    "\n",
    "str = \"abc_123@gmail.com\"\n",
    "ss1 = r'.'   # gives the first character and its location.\n",
    "ss2 = r'\\.'  # gives the '.' character and its location.  \n",
    "\n",
    "result1 = re.search(ss1,str)\n",
    "result2 = re.search(ss2,str)\n",
    "\n",
    "print(result1,'\\n',result2)"
   ]
  },
  {
   "cell_type": "code",
   "execution_count": 3,
   "id": "c71c166a",
   "metadata": {},
   "outputs": [
    {
     "name": "stdout",
     "output_type": "stream",
     "text": [
      "['a', 'b', 'c', '_', '1', '2', '3', '@', 'g', 'm', 'a', 'i', 'l', '.', 'c', 'o', 'm'] \n",
      " ['.']\n"
     ]
    }
   ],
   "source": [
    "# Use of '.' or '\\.' with findall\n",
    "\n",
    "result1 = re.findall(ss1,str)  #All the characters will be displayed as '.' will point to every character irrespective of the type.\n",
    "result2 = re.findall(ss2,str)  # ALl occurances of '.' will be found.\n",
    "\n",
    "print(result1,'\\n',result2)"
   ]
  },
  {
   "cell_type": "code",
   "execution_count": 7,
   "id": "9dfbc797",
   "metadata": {},
   "outputs": [
    {
     "name": "stdout",
     "output_type": "stream",
     "text": [
      "['8th', '11th']\n"
     ]
    }
   ],
   "source": [
    "#Write the regular expression and use proper method which Retrieves all words starting with a digit.\n",
    "#Output:- ['8th', '11th']\n",
    "\n",
    "import re\n",
    "str = 'The election in delhi will be held on 8th and result for the same will be declared on 11th'\n",
    "\n",
    "ss = r'\\d+[a-zA-Z]+'\n",
    "result = re.findall(ss,str)\n",
    "\n",
    "print(result)"
   ]
  },
  {
   "cell_type": "code",
   "execution_count": 8,
   "id": "61899d78",
   "metadata": {},
   "outputs": [
    {
     "name": "stdout",
     "output_type": "stream",
     "text": [
      "['peter', 'giper']\n"
     ]
    }
   ],
   "source": [
    "#Write the regular expression and use proper method which Retrieves all words having 5 characters.\n",
    "#Output:- ['peter', 'giper']\n",
    "\n",
    "\n",
    "str = \"peter giper picked a peck of pickled peppers\"\n",
    "\n",
    "ss = r'\\b(\\w{5})\\s'\n",
    "result = re.findall(ss, str)\n",
    "print(result)\n"
   ]
  },
  {
   "cell_type": "code",
   "execution_count": 14,
   "id": "367da3d8",
   "metadata": {},
   "outputs": [
    {
     "name": "stdout",
     "output_type": "stream",
     "text": [
      "['Retrieving', 'words', 'having', 'least', 'characters'] \n",
      " ['Retrieving', 'words', 'having', 'least', 'characters']\n"
     ]
    }
   ],
   "source": [
    "#Write the regular expression and use proper method which Retrieves all words having at least 4 characters.\n",
    "#Output:- ['Retrieving', 'all', 'words', 'having', 'least', 'characters']\n",
    "\n",
    "str = \"Retrieving all words having at least 4 characters\"\n",
    "\n",
    "# I found two ways to find atleast n number of characters in a sentence. Both are down. \n",
    "\n",
    "ss1 = r'\\b(\\w{4}\\w+)'\n",
    "ss = r'\\b(\\w{4,})'\n",
    "result = re.findall(ss, str)\n",
    "res = re.findall(ss1, str)\n",
    "print(result,'\\n',res)"
   ]
  },
  {
   "cell_type": "code",
   "execution_count": 22,
   "id": "0f0b3343",
   "metadata": {},
   "outputs": [
    {
     "name": "stdout",
     "output_type": "stream",
     "text": [
      "['all', 'words', 'least']\n"
     ]
    }
   ],
   "source": [
    "#Write the regular expression and use proper method which Retrieves all words having at characters between 3 to 5 words.\n",
    "#Output:- ['all', 'words', 'least']\n",
    "\n",
    "\n",
    "str = \"Retrieving all words having at least 4 characters\"\n",
    "\n",
    "# Similar to what we did above, but here we need only 3 or 4 or 5 characters in the word. SO, we use the \\s (space) -- after 3,4/5\n",
    "# charaters there should be space. \n",
    "\n",
    "ss = r'\\b(\\w{3,5})\\s'\n",
    "result = re.findall(ss, str)\n",
    "print(result)"
   ]
  },
  {
   "cell_type": "code",
   "execution_count": 23,
   "id": "bfdf62ef",
   "metadata": {},
   "outputs": [
    {
     "name": "stdout",
     "output_type": "stream",
     "text": [
      "['8', '11']\n"
     ]
    }
   ],
   "source": [
    "#Write the regular expression and use proper method which Retrieves only digits from the string.\n",
    "#Output:- ['8', '11']\n",
    "\n",
    "str = 'The election in delhi will be held on 8th and result for the same will be declared on 11'\n",
    "\n",
    "ss = r'\\d+'\n",
    "result = re.findall(ss, str)\n",
    "print(result)"
   ]
  },
  {
   "cell_type": "code",
   "execution_count": 35,
   "id": "efd17cdd",
   "metadata": {},
   "outputs": [
    {
     "name": "stdout",
     "output_type": "stream",
     "text": [
      "['ccharacters']\n"
     ]
    }
   ],
   "source": [
    "#Write the regular expression and use proper method which Retrieves last word if starts with c from the given string.\n",
    "#Output:- ['characters']\n",
    "\n",
    "import re\n",
    "str = \"Retrieving all words having catss least 4 ccharacters\"\n",
    "\n",
    "# if you want to just access the last character whatever it is - ss = r'\\w+$' will do that work. But here there is a clause. \n",
    "# It shuold start with 'c' hence - we also add \\bc -- should start with c. \n",
    "\n",
    "ss = r'\\bc\\w+$'\n",
    "result = re.findall(ss, str)\n",
    "print(result)"
   ]
  },
  {
   "cell_type": "code",
   "execution_count": 37,
   "id": "ef1b10cb",
   "metadata": {},
   "outputs": [
    {
     "name": "stdout",
     "output_type": "stream",
     "text": [
      "['7834567890']\n"
     ]
    }
   ],
   "source": [
    "#Write the regular expression and use proper method which Retrieves a phone number from the given string.\n",
    "#Output:- 1234567890\n",
    "\n",
    "\n",
    "str = \"Delivery : 7834567890\"\n",
    "\n",
    "ss = r'\\d+'\n",
    "result = re.findall(ss, str)\n",
    "print(result)"
   ]
  },
  {
   "cell_type": "code",
   "execution_count": 38,
   "id": "68a88afb",
   "metadata": {},
   "outputs": [
    {
     "name": "stdout",
     "output_type": "stream",
     "text": [
      "['Delivery : ']\n"
     ]
    }
   ],
   "source": [
    "##Write the regular expression and use proper method which Etracts name from the string but not number.\n",
    "#Output:- Delivery : \n",
    "import re\n",
    "str = \"Delivery : 1234567890\"\n",
    "\n",
    "\n",
    "ss = r'\\D+'\n",
    "result = re.findall(ss, str)\n",
    "print(result)"
   ]
  },
  {
   "cell_type": "code",
   "execution_count": 55,
   "id": "91b652ba",
   "metadata": {},
   "outputs": [
    {
     "name": "stdout",
     "output_type": "stream",
     "text": [
      "['anil', 'akhil', 'anant', 'ankur']\n"
     ]
    }
   ],
   "source": [
    "##Write the regular expression and use proper method which Retrieves name starting with 'an' or 'ak'.\n",
    "#Output:- ['anil', 'akhil', 'anant', 'ankur']\n",
    "\n",
    "str = 'anil akhil anant abhi arun arati arundhati nabhijit ankur'\n",
    "\n",
    "ss = r'\\ba[n|k]\\w+'\n",
    "result = re.findall(ss, str)\n",
    "print(result)"
   ]
  },
  {
   "cell_type": "code",
   "execution_count": null,
   "id": "208b3ec6",
   "metadata": {},
   "outputs": [],
   "source": []
  },
  {
   "cell_type": "code",
   "execution_count": null,
   "id": "d00c93ba",
   "metadata": {},
   "outputs": [],
   "source": []
  },
  {
   "cell_type": "code",
   "execution_count": null,
   "id": "ee1bcf21",
   "metadata": {},
   "outputs": [],
   "source": []
  },
  {
   "cell_type": "code",
   "execution_count": null,
   "id": "15ca12f9",
   "metadata": {},
   "outputs": [],
   "source": []
  }
 ],
 "metadata": {
  "kernelspec": {
   "display_name": "Python 3 (ipykernel)",
   "language": "python",
   "name": "python3"
  },
  "language_info": {
   "codemirror_mode": {
    "name": "ipython",
    "version": 3
   },
   "file_extension": ".py",
   "mimetype": "text/x-python",
   "name": "python",
   "nbconvert_exporter": "python",
   "pygments_lexer": "ipython3",
   "version": "3.9.12"
  }
 },
 "nbformat": 4,
 "nbformat_minor": 5
}
